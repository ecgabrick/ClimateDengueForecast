{
 "cells": [
  {
   "cell_type": "code",
   "execution_count": null,
   "id": "e8702724-b66b-4809-8322-e5df5ba393aa",
   "metadata": {},
   "outputs": [],
   "source": [
    "#Import libraries\n",
    "import numpy as np\n",
    "import pandas as pd\n",
    "import seaborn as sns\n",
    "import matplotlib.pyplot as plt\n",
    "from pandas.plotting import register_matplotlib_converters\n",
    "from sklearn.model_selection import train_test_split\n",
    "from sklearn.ensemble import RandomForestRegressor\n",
    "from sklearn.preprocessing import RobustScaler\n",
    "from pylab import rcParams"
   ]
  },
  {
   "cell_type": "code",
   "execution_count": null,
   "id": "3803fbbd-9f22-49b1-8e2d-b288f424e25d",
   "metadata": {},
   "outputs": [],
   "source": [
    "#import the files\n",
    "df = pd.read_csv('file_directory.csv')\n",
    "df"
   ]
  },
  {
   "cell_type": "code",
   "execution_count": null,
   "id": "3e8f5f4f-3535-4912-8ba2-39beb9b04b88",
   "metadata": {},
   "outputs": [],
   "source": [
    "#Read your file\n",
    "df = pd.DataFrame(df)\n",
    "df.rename({0:'Cases',1:'Temp_Max',2:'Humi_Rel',3:'Prec',4:'Pred_1'}, axis=1, inplace=True)\n",
    "df.head()"
   ]
  },
  {
   "cell_type": "code",
   "execution_count": null,
   "id": "b6d380f9-0fb0-4d1a-992d-158f75f6a996",
   "metadata": {},
   "outputs": [],
   "source": [
    "#Preparing your dataset according to the paper description\n",
    "y = df['Pred_1']\n",
    "X= df.drop(['Pred_1'],axis=1)\n",
    "X= X.drop(['Temp_Max'],axis=1)\n",
    "X= X.drop(['Prec'],axis=1)\n",
    "#X= X.drop(['Humi_Rel'],axis=1)\n",
    "X"
   ]
  },
  {
   "cell_type": "code",
   "execution_count": null,
   "id": "d1c602a4-bef9-4a78-80dd-7fd616b2fcf3",
   "metadata": {},
   "outputs": [],
   "source": [
    "#use the normalization\n",
    "from sklearn.preprocessing import RobustScaler\n",
    "transformer = RobustScaler().fit(X)\n",
    "RobustScaler()\n",
    "X = transformer.transform(X)\n",
    "X = pd.DataFrame(X)"
   ]
  },
  {
   "cell_type": "code",
   "execution_count": null,
   "id": "549049b4-6a05-4bed-b9ca-d4f51c3e86dc",
   "metadata": {},
   "outputs": [],
   "source": [
    "#here you select the train size, for ex is set to be 0.76 of the whole time series\n",
    "train_size= int(len(df)*0.76)\n",
    "test_size = int(len(df)) - train_size + 1"
   ]
  },
  {
   "cell_type": "code",
   "execution_count": null,
   "id": "09eece40-08ec-46db-b3fd-992f60cd6fb0",
   "metadata": {},
   "outputs": [],
   "source": [
    "#Start the training\n",
    "x_train, y_train = X[:train_size].dropna(), y[:train_size].dropna()\n",
    "x_val, y_val = X[train_size:].dropna(), y[train_size:].dropna()"
   ]
  },
  {
   "cell_type": "code",
   "execution_count": null,
   "id": "1a4e321d-b441-45bc-9cf8-e642379afceb",
   "metadata": {},
   "outputs": [],
   "source": [
    "X_train_series = x_train.values.reshape((x_train.shape[0], x_train.shape[1]))\n",
    "X_valid_series = x_val.values.reshape((x_val.shape[0], x_val.shape[1]))"
   ]
  },
  {
   "cell_type": "code",
   "execution_count": null,
   "id": "94b04bbc-487b-47b2-802c-422b88b57b14",
   "metadata": {},
   "outputs": [],
   "source": [
    "print('Train set shape', X_train_series.shape)\n",
    "print('Validation set shape', X_train_series.shape)"
   ]
  },
  {
   "cell_type": "code",
   "execution_count": null,
   "id": "4b2c2906-4243-4444-a3f7-c0085c70b78e",
   "metadata": {},
   "outputs": [],
   "source": [
    "#Define the hyperparameters according to the city and the paper description\n",
    "rf = RandomForestRegressor(criterion = 'poisson', n_estimators = 1500, max_features = 0.2, max_depth = 200,bootstrap=True, random_state = 18).fit(X_train_series, y_train)\n",
    "prediction_train = rf.predict(X_train_series)\n",
    "prediction_test = rf.predict(X_valid_series )"
   ]
  },
  {
   "cell_type": "code",
   "execution_count": null,
   "id": "854281d3-ff20-42d5-a64b-9acf99b0607c",
   "metadata": {},
   "outputs": [],
   "source": [
    "y_true = df['Pred_1'].values\n",
    "val = pd.DataFrame(y_val)\n",
    "val[\"pred_test\"] = prediction_test"
   ]
  },
  {
   "cell_type": "code",
   "execution_count": null,
   "id": "d6420a4c-cc27-4104-ba2c-5e61ee6d7429",
   "metadata": {},
   "outputs": [],
   "source": [
    "train = pd.DataFrame(y_train)\n",
    "train[\"pred_train\"] = prediction_train\n",
    "pred = np.concatenate([prediction_train,prediction_test])\n",
    "y_true = df['Pred_1'].values"
   ]
  },
  {
   "cell_type": "code",
   "execution_count": null,
   "id": "178d0e74-bbac-4b32-a87a-4db74e8f0365",
   "metadata": {},
   "outputs": [],
   "source": [
    "treino_teste = np.concatenate([prediction_train, prediction_test])"
   ]
  },
  {
   "cell_type": "code",
   "execution_count": null,
   "id": "efba3ddd-8516-40ca-9de3-5f1a3a610dab",
   "metadata": {},
   "outputs": [],
   "source": [
    "from matplotlib import pyplot\n",
    "importances = rf.feature_importances_"
   ]
  },
  {
   "cell_type": "code",
   "execution_count": null,
   "id": "56be6dde-1122-4ce0-8f97-5a080eeee955",
   "metadata": {},
   "outputs": [],
   "source": [
    "y_true = pd.DataFrame(y_true)\n",
    "y_true.rename({0:'Cases'}, axis=1, inplace=True)"
   ]
  },
  {
   "cell_type": "code",
   "execution_count": null,
   "id": "b0f7b14d-7f70-4de0-bc35-50a46929e558",
   "metadata": {},
   "outputs": [],
   "source": [
    "treino_teste = pd.DataFrame(treino_teste)\n",
    "treino_teste.rename({0:'Cases'}, axis=1, inplace=True)"
   ]
  },
  {
   "cell_type": "code",
   "execution_count": null,
   "id": "bb4912eb-66c0-4f8d-adb6-babd4087b516",
   "metadata": {},
   "outputs": [],
   "source": [
    "from numpy import sqrt \n",
    "from sklearn.metrics import mean_squared_error\n",
    "erro_abs= np.abs(y_true-treino_teste)\n",
    "rmse_total = sqrt(mean_squared_error(y_true, treino_teste))"
   ]
  },
  {
   "cell_type": "code",
   "execution_count": null,
   "id": "df843d2c-aa37-4eab-b445-ab012f3570ab",
   "metadata": {},
   "outputs": [],
   "source": [
    "y_true_data = pd.DataFrame(y_true)\n",
    "simulado_data = pd.DataFrame(treino_teste)\n",
    "erro_abs_data =  pd.DataFrame(erro_abs)\n",
    "erro=y_true-treino_teste\n",
    "result = pd.concat([y_true_data, simulado_data, erro_abs_data,erro], axis=1)\n",
    "result.to_csv('result.csv')"
   ]
  },
  {
   "cell_type": "code",
   "execution_count": null,
   "id": "5b4728f8-a29f-488f-84c5-55a2bea8e0d6",
   "metadata": {},
   "outputs": [],
   "source": [
    "#Compute the error\n",
    "from math import sqrt\n",
    "from sklearn.metrics import r2_score\n",
    "from scipy import stats\n",
    "from scipy.stats import pearsonr\n",
    "from sklearn.metrics import mean_absolute_percentage_error\n",
    "erro_medio = np.mean(erro_abs[train_size:train_size+test_size])\n",
    "rmse = sqrt(mean_squared_error(y_true[train_size:], treino_teste[train_size:]))\n",
    "r2 = r2_score(y_true[train_size:], treino_teste[train_size:])\n",
    "xx = y_true_data[train_size:]\n",
    "xx = xx.rename(columns={'Cases': 'Cases'})\n",
    "yy = treino_teste[train_size:]\n",
    "yy = yy.rename(columns={'Cases': 'Treino'})\n",
    "dff = pd.concat([xx, yy], axis=1)\n",
    "corr, _ = pearsonr(dff['Cases'],dff['Treino'])\n",
    "####\n",
    "#print('Erro Perc. Medio: %.3f' % error_percentual_medio)\n",
    "print('Erro abs: %.3f' %erro_medio)\n",
    "print('Pearsons correlation: %.3f' % corr)\n",
    "print('Test RMSE: %.3f' % rmse)\n",
    "print('R^2: %.3f' % r2)\n",
    "#print('Corr: %.3f' % r)\n",
    "importances"
   ]
  }
 ],
 "metadata": {
  "kernelspec": {
   "display_name": "Python 3 (ipykernel)",
   "language": "python",
   "name": "python3"
  },
  "language_info": {
   "codemirror_mode": {
    "name": "ipython",
    "version": 3
   },
   "file_extension": ".py",
   "mimetype": "text/x-python",
   "name": "python",
   "nbconvert_exporter": "python",
   "pygments_lexer": "ipython3",
   "version": "3.10.12"
  }
 },
 "nbformat": 4,
 "nbformat_minor": 5
}
